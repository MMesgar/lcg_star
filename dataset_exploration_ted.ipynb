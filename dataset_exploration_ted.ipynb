{
 "cells": [
  {
   "cell_type": "code",
   "execution_count": 1,
   "metadata": {
    "collapsed": true
   },
   "outputs": [],
   "source": [
    "import os\n",
    "from collections import Counter\n",
    "import codecs\n",
    "import warnings\n",
    "warnings.filterwarnings('ignore')"
   ]
  },
  {
   "cell_type": "code",
   "execution_count": 2,
   "metadata": {},
   "outputs": [
    {
     "name": "stdout",
     "output_type": "stream",
     "text": [
      "number of talks: 1445\n",
      "number of gender annotations: 1415\n"
     ]
    }
   ],
   "source": [
    "with codecs.open('./ted-gender-annotated/ted-male-female-en.txt', 'rb',encoding=\"utf-8\") as f:\n",
    "    ted_male_female = f.read().strip()\n",
    "with open('./ted-gender-annotated/ted-gender-annotations-en.csv') as f:\n",
    "    ted_gender_annotation = f.read().strip()\n",
    "\n",
    "ted_male_female = ted_male_female.split('\\n\\n')\n",
    "ted_gender_annotation = ted_gender_annotation.split('\\n')\n",
    "\n",
    "print \"number of talks: %d\"%len(ted_male_female)\n",
    "print \"number of gender annotations: %d\"%len(ted_gender_annotation)"
   ]
  },
  {
   "cell_type": "code",
   "execution_count": 3,
   "metadata": {
    "collapsed": true
   },
   "outputs": [],
   "source": [
    "def get_talk(ted_male_female, url):\n",
    "    url = '<url>%s</url>'%url.strip()\n",
    "    for talk in ted_male_female:\n",
    "        talk_url = talk.split('\\n')[0]\n",
    "        if talk_url == url:\n",
    "            output =  talk.split('\\n')[1:]\n",
    "            return output\n",
    "    return None\n",
    "#get_talk(ted_male_female,'http://www.ted.com/talks/jessa_gamble_how_to_sleep.html')"
   ]
  },
  {
   "cell_type": "code",
   "execution_count": 4,
   "metadata": {
    "collapsed": true
   },
   "outputs": [],
   "source": [
    "# limit talk to ones that are annotated\n",
    "talks = dict()\n",
    "talk_id = 0\n",
    "count_discard = 0\n",
    "count_no_content = 0\n",
    "count_males = 0\n",
    "count_females = 0\n",
    "for gender_annotation in ted_gender_annotation:\n",
    "    gender = gender_annotation.split(',')[0].lower()\n",
    "    url = gender_annotation.split(',')[1]\n",
    "    \n",
    "    if gender in ['male','female']:\n",
    "        #identify the label\n",
    "        if gender == 'male':\n",
    "            label = 0\n",
    "            count_males += 1\n",
    "        else:\n",
    "            label =1 \n",
    "            count_females += 1 \n",
    "        # get the content\n",
    "        content = get_talk(ted_male_female, url)\n",
    "        if content != None:\n",
    "            talks[talk_id] = {'gender':gender,'label':label,'url':url.strip(),'content':content} \n",
    "            talk_id += 1\n",
    "        else:\n",
    "            count_no_content +=1 \n",
    "    else:\n",
    "        count_discard += 1\n",
    "            "
   ]
  },
  {
   "cell_type": "code",
   "execution_count": 5,
   "metadata": {},
   "outputs": [
    {
     "name": "stdout",
     "output_type": "stream",
     "text": [
      "number of discards: 59\n",
      "number of males: 1012\n",
      "number of females: 344\n",
      "number of talks in dataset: 1356\n"
     ]
    }
   ],
   "source": [
    "print \"number of discards: %d\"%count_discard\n",
    "print \"number of males: %d\"%count_males\n",
    "print \"number of females: %d\"%count_females\n",
    "print \"number of talks in dataset: %d\"% len(talks)"
   ]
  },
  {
   "cell_type": "code",
   "execution_count": 6,
   "metadata": {
    "collapsed": true
   },
   "outputs": [],
   "source": [
    "from collections import defaultdict\n",
    "def voc_count(corpus):\n",
    "    d = defaultdict(int)\n",
    "    for p in corpus:\n",
    "        for sent in p:\n",
    "            for t in sent:\n",
    "                d[t] += 1\n",
    "    return d"
   ]
  },
  {
   "cell_type": "code",
   "execution_count": 7,
   "metadata": {
    "collapsed": true
   },
   "outputs": [],
   "source": [
    "from nltk.tokenize import sent_tokenize\n",
    "from nltk import word_tokenize\n",
    "import string\n",
    "\n",
    "#load list of stop words\n",
    "with open('./snowball_stopwords.txt','rb') as sw:\n",
    "    stop_words = [line.strip() for line in sw]\n",
    "\n",
    "#load punctuations \n",
    "punctuations = string.punctuation\n",
    "\n",
    "\n",
    "#extra characters,\n",
    "extra = [u\"'s\", \n",
    "         u\"'m\", \n",
    "         u\"'re\",\n",
    "         u\"'ve\",\n",
    "         u\"'t\",\n",
    "         u\"'d\",\n",
    "         u\"'ll\",\n",
    "         u\",\",\n",
    "         u\"!\",\n",
    "         u\"(\",\n",
    "         u\")\",\n",
    "         u\"?\",\n",
    "         u'\"',\n",
    "         u'--',\n",
    "         u\"''\",\n",
    "         u'``'\n",
    "        ]\n",
    "\n",
    "def pre_process_par(par):\n",
    "    \"\"\"\n",
    "    input: \n",
    "       list of sentences\n",
    "    output:\n",
    "       list of sentences. Each sentence is a list of tokens.\n",
    "    \"\"\"\n",
    "    output = []\n",
    "    \n",
    "    sent_par = par\n",
    "\n",
    "    # remove meta data\n",
    "    i = len(sent_par)-1\n",
    "    while(i>0):\n",
    "        sent = sent_par[i]\n",
    "        if (\"<talkid>\" in sent):\n",
    "            break\n",
    "        i = i - 1\n",
    "        \n",
    "    if i>0:\n",
    "        sent_par = sent_par[0:i]\n",
    "    \n",
    "     \n",
    "    # make the sentences lowecase\n",
    "    sent_par = [sent.lower() for sent in sent_par]\n",
    "    \n",
    "    \n",
    "      # tokenize and clean all sentences\n",
    "    for i,sent in enumerate(sent_par):\n",
    "        # remove extra things\n",
    "        for item in extra:\n",
    "            sent = sent.replace(item,'')\n",
    "        try:\n",
    "            #tokenize each sentence\n",
    "            tokens = word_tokenize(sent)\n",
    "        except ValueError:\n",
    "            print i\n",
    "            raise ValueError(sent)\n",
    "            return\n",
    "        # remove repetitve words in a sentenece\n",
    "        tokens = list(set(tokens))\n",
    "        \n",
    "        #remove stop words and clean texts\n",
    "        tokens = [tok for tok in tokens if \n",
    "                                          (tok not in stop_words) and \n",
    "                                          (tok not in punctuations)]\n",
    "        if len(tokens)>0:\n",
    "            # put it in the output\n",
    "            output.append(tokens)\n",
    "    return output"
   ]
  },
  {
   "cell_type": "code",
   "execution_count": 8,
   "metadata": {
    "collapsed": true
   },
   "outputs": [],
   "source": [
    "w2v_path = './glove.840B.300d.txt'\n",
    "\n",
    "import numpy as np\n",
    "rng = np.random.RandomState(seed=1)\n",
    "\n",
    "cn = 0\n",
    "word2vec = {}\n",
    "with open(w2v_path,'rb') as w2v:\n",
    "    content = w2v.read().strip()\n",
    "    for line in content.split('\\n'):\n",
    "        cn +=1\n",
    "        line = line.strip().split()\n",
    "        v = line[0]\n",
    "        \n",
    "        vector = line[1:]\n",
    "        vector = np.matrix(vector,dtype='float32')\n",
    "        \n",
    "        word2vec[v] = vector"
   ]
  },
  {
   "cell_type": "code",
   "execution_count": 9,
   "metadata": {
    "collapsed": true
   },
   "outputs": [],
   "source": [
    "def overlap(ds, word2vec):\n",
    "    voc_in_word2vec = set(word2vec.keys())\n",
    "    num_voc_in_word2vec = len(voc_in_word2vec)\n",
    "    print \"num_voc_in_word2vec: %d\"%num_voc_in_word2vec\n",
    "\n",
    "    voc_in_ds = []\n",
    "    for par in ds:\n",
    "        for sent in par:\n",
    "            voc_in_ds += sent\n",
    "    \n",
    "    num_voc_in_ds = len(voc_in_ds)\n",
    "    print \"num_voc_in_ds: %d\"%num_voc_in_ds\n",
    "    \n",
    "    print \"remove duplicates ... \"\n",
    "    voc_in_ds = set(voc_in_ds)\n",
    "    \n",
    "    num_voc_in_ds = len(voc_in_ds)\n",
    "    print \"num_voc_in_ds: %d\"%num_voc_in_ds\n",
    "    \n",
    "    intersection = set(voc_in_word2vec).intersection(voc_in_ds)\n",
    "    count_overlap = len(intersection)\n",
    "    print \"count_overlap: %d\"%count_overlap\n",
    "    \n",
    "    precent_overlap = 100*(count_overlap / float(num_voc_in_ds))\n",
    "    print \"precent_overlap: %.2f%%\"%precent_overlap"
   ]
  },
  {
   "cell_type": "code",
   "execution_count": 10,
   "metadata": {
    "collapsed": true
   },
   "outputs": [],
   "source": [
    "def statistics_ds(ds):\n",
    "    print \"data size (# talks): %d\"%len(ds)\n",
    "    \n",
    "    par_lens = [len(par) for par in ds]\n",
    "    avg_par_len = np.average(par_lens)\n",
    "    print \"avg_talk_len: %.2f\"%avg_par_len\n",
    "    \n",
    "    min_par_len = np.min(par_lens)\n",
    "    print \"min_talk_len (sent based): %2.f\"%min_par_len\n",
    "    \n",
    "    max_par_len = np.max(par_lens)\n",
    "    print \"max_talk_len (sent based): %2.f\"%max_par_len\n",
    "\n",
    "    std_par_len = np.std(par_lens)\n",
    "    print \"std_talk_len (sent based): %2.f\"%std_par_len\n",
    "\n",
    "\n",
    "    \n",
    "    sent_lens = []\n",
    "    for par in ds:\n",
    "        for sent in par:\n",
    "            sent_lens.append(len(sent))\n",
    "    \n",
    "    avg_sent_len = np.average(sent_lens)\n",
    "    print \"avg_sent_len: %.2f\"%avg_sent_len\n",
    "    \n",
    "    min_sent_len = np.min(sent_lens)\n",
    "    print \"min_sent_len: %2.f\"%min_sent_len\n",
    "\n",
    "    max_sent_len = np.max(sent_lens)\n",
    "    print \"max_sent_len: %2.f\"%max_sent_len\n",
    "\n",
    "    std_sent_len = np.std(sent_lens)\n",
    "    print \"std_sent_len: %2.f\"%std_sent_len\n",
    "    \n"
   ]
  },
  {
   "cell_type": "code",
   "execution_count": 11,
   "metadata": {
    "collapsed": true
   },
   "outputs": [],
   "source": [
    "import sys\n",
    "def drawProgressBar(shell_out, \n",
    "                    begin, k, out_of, end, barLen =25):\n",
    "    percent = k/float(out_of)\n",
    "    sys.stdout.write(\"\\r\")\n",
    "    progress = \"\"\n",
    "    for i in range(barLen):\n",
    "        if i < int(barLen * percent):\n",
    "            progress += \"=\"\n",
    "        elif i==int(barLen * percent):\n",
    "            progress +='>'\n",
    "        else:\n",
    "            progress += \"_\"\n",
    "    text = \"%s%d/%d[%s](%.2f%%)%s\"%(begin,k,out_of,progress,percent * 100, end)\n",
    "    if shell_out== True:\n",
    "        sys.stdout.write(text)\n",
    "        sys.stdout.flush()\n",
    "    return text"
   ]
  },
  {
   "cell_type": "code",
   "execution_count": 12,
   "metadata": {
    "collapsed": true
   },
   "outputs": [],
   "source": [
    "# import copy as cp\n",
    "# tmp = cp.deepcopy(talks)"
   ]
  },
  {
   "cell_type": "code",
   "execution_count": 13,
   "metadata": {
    "collapsed": true
   },
   "outputs": [],
   "source": [
    "#talks = cp.deepcopy(tmp)"
   ]
  },
  {
   "cell_type": "code",
   "execution_count": 14,
   "metadata": {
    "scrolled": false
   },
   "outputs": [
    {
     "name": "stdout",
     "output_type": "stream",
     "text": [
      "1356/1356[=========================](100.00%)"
     ]
    }
   ],
   "source": [
    "for talk_id, talk in talks.items():\n",
    "    text = talk['content']\n",
    "    talks[talk_id]['content'] = pre_process_par(text)\n",
    "    drawProgressBar(True,\"\",talk_id+1,len(talks),\"\")"
   ]
  },
  {
   "cell_type": "code",
   "execution_count": 15,
   "metadata": {
    "collapsed": true
   },
   "outputs": [],
   "source": [
    "import pickle\n",
    "with open('./ted-gender-annotated/dataset.pkl','wb') as f:\n",
    "    pickle.dump(talks,f)"
   ]
  },
  {
   "cell_type": "code",
   "execution_count": 16,
   "metadata": {},
   "outputs": [
    {
     "name": "stdout",
     "output_type": "stream",
     "text": [
      "data size (# talks): 344\n",
      "avg_talk_len: 118.77\n",
      "min_talk_len (sent based): 10\n",
      "max_talk_len (sent based): 267\n",
      "std_talk_len (sent based): 52\n",
      "avg_sent_len: 8.01\n",
      "min_sent_len:  1\n",
      "max_sent_len: 69\n",
      "std_sent_len:  5\n"
     ]
    }
   ],
   "source": [
    "texts = [talk['content'] for talk in talks.values() if talk['gender']=='female']\n",
    "statistics_ds(texts)"
   ]
  },
  {
   "cell_type": "code",
   "execution_count": 17,
   "metadata": {},
   "outputs": [
    {
     "name": "stdout",
     "output_type": "stream",
     "text": [
      "data size (# talks): 1012\n",
      "avg_talk_len: 133.24\n",
      "min_talk_len (sent based): 11\n",
      "max_talk_len (sent based): 396\n",
      "std_talk_len (sent based): 63\n",
      "avg_sent_len: 7.69\n",
      "min_sent_len:  1\n",
      "max_sent_len: 138\n",
      "std_sent_len:  5\n"
     ]
    }
   ],
   "source": [
    "texts = [talk['content'] for talk in talks.values() if talk['gender']=='male']\n",
    "statistics_ds(texts)"
   ]
  },
  {
   "cell_type": "code",
   "execution_count": 18,
   "metadata": {},
   "outputs": [
    {
     "name": "stdout",
     "output_type": "stream",
     "text": [
      "data size (# talks): 1356\n",
      "avg_talk_len: 129.57\n",
      "min_talk_len (sent based): 10\n",
      "max_talk_len (sent based): 396\n",
      "std_talk_len (sent based): 61\n",
      "avg_sent_len: 7.76\n",
      "min_sent_len:  1\n",
      "max_sent_len: 138\n",
      "std_sent_len:  5\n"
     ]
    }
   ],
   "source": [
    "texts = [talk['content'] for talk in talks.values()]\n",
    "statistics_ds(texts)"
   ]
  },
  {
   "cell_type": "code",
   "execution_count": 19,
   "metadata": {},
   "outputs": [
    {
     "name": "stdout",
     "output_type": "stream",
     "text": [
      "num_voc_in_word2vec: 2196016\n",
      "num_voc_in_ds: 327140\n",
      "remove duplicates ... \n",
      "num_voc_in_ds: 27440\n",
      "count_overlap: 25931\n",
      "precent_overlap: 94.50%\n"
     ]
    }
   ],
   "source": [
    "texts = [talk['content'] for talk in talks.values() if talk['gender']=='female']\n",
    "overlap(texts,word2vec)"
   ]
  },
  {
   "cell_type": "code",
   "execution_count": 20,
   "metadata": {},
   "outputs": [
    {
     "name": "stdout",
     "output_type": "stream",
     "text": [
      "num_voc_in_word2vec: 2196016\n",
      "num_voc_in_ds: 1037038\n",
      "remove duplicates ... \n",
      "num_voc_in_ds: 47174\n",
      "count_overlap: 42724\n",
      "precent_overlap: 90.57%\n"
     ]
    }
   ],
   "source": [
    "texts = [talk['content'] for talk in talks.values() if talk['gender']=='male']\n",
    "overlap(texts,word2vec)"
   ]
  },
  {
   "cell_type": "code",
   "execution_count": 21,
   "metadata": {},
   "outputs": [
    {
     "name": "stdout",
     "output_type": "stream",
     "text": [
      "num_voc_in_word2vec: 2196016\n",
      "num_voc_in_ds: 1364178\n",
      "remove duplicates ... \n",
      "num_voc_in_ds: 54317\n",
      "count_overlap: 48459\n",
      "precent_overlap: 89.22%\n"
     ]
    }
   ],
   "source": [
    "texts = [talk['content'] for talk in talks.values()]\n",
    "overlap(texts,word2vec)"
   ]
  },
  {
   "cell_type": "code",
   "execution_count": null,
   "metadata": {
    "collapsed": true
   },
   "outputs": [],
   "source": []
  }
 ],
 "metadata": {
  "kernelspec": {
   "display_name": "Python 2",
   "language": "python",
   "name": "python2"
  },
  "language_info": {
   "codemirror_mode": {
    "name": "ipython",
    "version": 2
   },
   "file_extension": ".py",
   "mimetype": "text/x-python",
   "name": "python",
   "nbconvert_exporter": "python",
   "pygments_lexer": "ipython2",
   "version": "2.7.14"
  }
 },
 "nbformat": 4,
 "nbformat_minor": 2
}

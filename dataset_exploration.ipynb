{
 "cells": [
  {
   "cell_type": "code",
   "execution_count": 1,
   "metadata": {
    "collapsed": true
   },
   "outputs": [],
   "source": [
    "import os\n",
    "from collections import Counter"
   ]
  },
  {
   "cell_type": "code",
   "execution_count": 2,
   "metadata": {
    "collapsed": true
   },
   "outputs": [],
   "source": [
    "from collections import defaultdict\n",
    "def voc_count(corpus):\n",
    "    d = defaultdict(int)\n",
    "    for p in corpus:\n",
    "        for sent in p:\n",
    "            for t in sent:\n",
    "                d[t] += 1\n",
    "    return d"
   ]
  },
  {
   "cell_type": "code",
   "execution_count": 3,
   "metadata": {
    "collapsed": true
   },
   "outputs": [],
   "source": [
    "from nltk.tokenize import sent_tokenize\n",
    "from nltk import word_tokenize\n",
    "import string\n",
    "\n",
    "#load list of stop words\n",
    "with open('./snowball_stopwords.txt','rb') as sw:\n",
    "    stop_words = [line.strip() for line in sw]\n",
    "\n",
    "#load punctuations \n",
    "punctuations = string.punctuation\n",
    "\n",
    "#extra characters\n",
    "extra = []\n",
    "\n",
    "def pre_process_par(par):\n",
    "    \"\"\"\n",
    "    input: \n",
    "       a paragraph\n",
    "    output:\n",
    "       list of sentences. Each sentence is a list of tokens.\n",
    "    \"\"\"\n",
    "    output = []\n",
    "    # make the par lowecase\n",
    "    par = par.lower()\n",
    "    \n",
    "    # split sentences\n",
    "    sent_par = sent_tokenize(par)\n",
    "    \n",
    "    # tokenize and clean all sentences\n",
    "    for sent in sent_par:\n",
    "        \n",
    "        #tokenize each sentence\n",
    "        tokens = word_tokenize(sent)\n",
    "        \n",
    "        # remove repetitve words in a sentenece\n",
    "        tokens = list(set(tokens))\n",
    "        \n",
    "        #remove stop words and clean texts\n",
    "        tokens = [tok for tok in tokens if \n",
    "                                          (tok not in stop_words) and \n",
    "                                          (tok not in punctuations) and \n",
    "                                          (tok not in extra)]\n",
    "        \n",
    "        # put it in the output\n",
    "        output.append(tokens)\n",
    "    return output"
   ]
  },
  {
   "cell_type": "code",
   "execution_count": 4,
   "metadata": {
    "collapsed": true
   },
   "outputs": [],
   "source": [
    "w2v_path = './glove.840B.300d.txt'\n",
    "\n",
    "import numpy as np\n",
    "rng = np.random.RandomState(seed=1)\n",
    "\n",
    "cn = 0\n",
    "word2vec = {}\n",
    "with open(w2v_path,'rb') as w2v:\n",
    "    content = w2v.read().strip()\n",
    "    for line in content.split('\\n'):\n",
    "        cn +=1\n",
    "        line = line.strip().split()\n",
    "        v = line[0]\n",
    "        \n",
    "        vector = line[1:]\n",
    "        vector = np.matrix(vector,dtype='float32')\n",
    "        \n",
    "        word2vec[v] = vector"
   ]
  },
  {
   "cell_type": "code",
   "execution_count": 31,
   "metadata": {},
   "outputs": [],
   "source": [
    "def overlap(ds, word2vec):\n",
    "    voc_in_word2vec = set(word2vec.keys())\n",
    "    num_voc_in_word2vec = len(voc_in_word2vec)\n",
    "    print \"num_voc_in_word2vec: %d\"%num_voc_in_word2vec\n",
    "\n",
    "    voc_in_ds = []\n",
    "    for par in ds:\n",
    "        for sent in par:\n",
    "            voc_in_ds += sent\n",
    "    \n",
    "    num_voc_in_ds = len(voc_in_ds)\n",
    "    print \"num_voc_in_ds: %d\"%num_voc_in_ds\n",
    "    \n",
    "    print \"remove duplicates ... \"\n",
    "    voc_in_ds = set(voc_in_ds)\n",
    "    \n",
    "    num_voc_in_ds = len(voc_in_ds)\n",
    "    print \"num_voc_in_ds: %d\"%num_voc_in_ds\n",
    "    \n",
    "    intersection = set(voc_in_word2vec).intersection(voc_in_ds)\n",
    "    count_overlap = len(intersection)\n",
    "    print \"count_overlap: %d\"%count_overlap\n",
    "    \n",
    "    precent_overlap = 100*(count_overlap / float(num_voc_in_ds))\n",
    "    print \"precent_overlap: %.2f%%\"%precent_overlap"
   ]
  },
  {
   "cell_type": "code",
   "execution_count": 32,
   "metadata": {
    "collapsed": true
   },
   "outputs": [],
   "source": [
    "def statistics_ds(ds):\n",
    "    print \"data size size (# paragraphs): %d\"%len(ds)\n",
    "    \n",
    "    par_lens = [len(par) for par in ds]\n",
    "    avg_par_len = np.average(par_lens)\n",
    "    print \"avg_par_len: %.2f\"%avg_par_len\n",
    "    \n",
    "    min_par_len = np.min(par_lens)\n",
    "    print \"min_par_len: %2.f\"%min_par_len\n",
    "    \n",
    "    max_par_len = np.max(par_lens)\n",
    "    print \"max_par_len: %2.f\"%max_par_len\n",
    "\n",
    "    std_par_len = np.std(par_lens)\n",
    "    print \"std_par_len: %2.f\"%std_par_len\n",
    "\n",
    "\n",
    "    \n",
    "    sent_lens = [len(sent) for sent in par for par in ds]\n",
    "    \n",
    "    avg_sent_len = np.average(sent_lens)\n",
    "    print \"avg_sent_len: %.2f\"%avg_sent_len\n",
    "    \n",
    "    min_sent_len = np.min(sent_lens)\n",
    "    print \"min_sent_len: %2.f\"%min_sent_len\n",
    "\n",
    "    max_sent_len = np.max(sent_lens)\n",
    "    print \"max_sent_len: %2.f\"%max_sent_len\n",
    "\n",
    "    std_sent_len = np.std(sent_lens)\n",
    "    print \"std_sent_len: %2.f\"%std_sent_len\n",
    "    \n"
   ]
  },
  {
   "cell_type": "code",
   "execution_count": 6,
   "metadata": {},
   "outputs": [
    {
     "name": "stdout",
     "output_type": "stream",
     "text": [
      "# paragraphs in original: 5000\n"
     ]
    }
   ],
   "source": [
    "import codecs\n",
    "with codecs.open('./Hansard/hansard.en.original.10K.out', 'rb','utf8') as orig:\n",
    "    orig_paragraphs = []\n",
    "    for line in orig:\n",
    "        if line != '\\n' and len(line)>0:\n",
    "            orig_paragraphs.append(line.strip())\n",
    "print \"# paragraphs in original: %d\"%len(orig_paragraphs)"
   ]
  },
  {
   "cell_type": "code",
   "execution_count": 7,
   "metadata": {},
   "outputs": [
    {
     "name": "stderr",
     "output_type": "stream",
     "text": [
      "[Parallel(n_jobs=-1)]: Done 192 tasks      | elapsed:    1.9s\n",
      "[Parallel(n_jobs=-1)]: Done 1488 tasks      | elapsed:   13.6s\n",
      "[Parallel(n_jobs=-1)]: Done 3648 tasks      | elapsed:   36.1s\n",
      "[Parallel(n_jobs=-1)]: Done 5000 out of 5000 | elapsed:   50.5s finished\n"
     ]
    }
   ],
   "source": [
    "from joblib import Parallel, delayed\n",
    "original_pars = []\n",
    "original_pars = Parallel(n_jobs=-1, verbose=-1, backend=\"multiprocessing\")(\n",
    "             map(delayed(pre_process_par), orig_paragraphs))"
   ]
  },
  {
   "cell_type": "code",
   "execution_count": 8,
   "metadata": {},
   "outputs": [
    {
     "name": "stdout",
     "output_type": "stream",
     "text": [
      "data size size (# paragraphs): 5000\n",
      "avg_par_len: 67.95\n",
      "min_par_len: 13\n",
      "max_par_len: 703\n",
      "std_par_len: 38\n",
      "avg_sent_len: 10.14\n",
      "min_sent_len:  1\n",
      "max_sent_len: 30\n",
      "std_sent_len:  6\n"
     ]
    }
   ],
   "source": [
    "statistics_ds(original_pars)"
   ]
  },
  {
   "cell_type": "code",
   "execution_count": 9,
   "metadata": {},
   "outputs": [
    {
     "name": "stdout",
     "output_type": "stream",
     "text": [
      "# paragraphs in translated: 5000\n"
     ]
    }
   ],
   "source": [
    "with codecs.open('./Hansard/hansard.en.translated.from.fr.10K.out','rb','utf8') as tran:\n",
    "    tran_paragraphs = []\n",
    "    for line in tran:\n",
    "        if line != '\\n' and len(line)>0:\n",
    "            tran_paragraphs.append(line.strip())\n",
    "\n",
    "print \"# paragraphs in translated: %d\"%len(tran_paragraphs)"
   ]
  },
  {
   "cell_type": "code",
   "execution_count": 10,
   "metadata": {},
   "outputs": [
    {
     "name": "stderr",
     "output_type": "stream",
     "text": [
      "[Parallel(n_jobs=-1)]: Done 144 tasks      | elapsed:    1.6s\n",
      "[Parallel(n_jobs=-1)]: Done 1008 tasks      | elapsed:    9.9s\n",
      "[Parallel(n_jobs=-1)]: Done 2448 tasks      | elapsed:   23.7s\n",
      "[Parallel(n_jobs=-1)]: Done 4464 tasks      | elapsed:   43.3s\n",
      "[Parallel(n_jobs=-1)]: Done 5000 out of 5000 | elapsed:   48.8s finished\n"
     ]
    }
   ],
   "source": [
    "from joblib import Parallel, delayed\n",
    "translated_pars = []\n",
    "translated_pars = Parallel(n_jobs=-1, verbose=-1, backend=\"multiprocessing\")(\n",
    "             map(delayed(pre_process_par), tran_paragraphs))"
   ]
  },
  {
   "cell_type": "code",
   "execution_count": 11,
   "metadata": {},
   "outputs": [
    {
     "name": "stdout",
     "output_type": "stream",
     "text": [
      "data size size (# paragraphs): 5000\n",
      "avg_par_len: 69.86\n",
      "min_par_len:  8\n",
      "max_par_len: 334\n",
      "std_par_len: 37\n",
      "avg_sent_len: 9.79\n",
      "min_sent_len:  1\n",
      "max_sent_len: 32\n",
      "std_sent_len:  6\n"
     ]
    }
   ],
   "source": [
    "statistics_ds(translated_pars)"
   ]
  },
  {
   "cell_type": "code",
   "execution_count": 33,
   "metadata": {},
   "outputs": [
    {
     "name": "stdout",
     "output_type": "stream",
     "text": [
      "num_voc_in_word2vec: 2196016\n",
      "num_voc_in_ds: 3205261\n",
      "remove duplicates ... \n",
      "num_voc_in_ds: 43142\n",
      "count_overlap: 38897\n",
      "precent_overlap: 90.16%\n"
     ]
    }
   ],
   "source": [
    "overlap(original_pars,word2vec)"
   ]
  },
  {
   "cell_type": "code",
   "execution_count": 34,
   "metadata": {},
   "outputs": [
    {
     "name": "stdout",
     "output_type": "stream",
     "text": [
      "num_voc_in_word2vec: 2196016\n",
      "num_voc_in_ds: 3359961\n",
      "remove duplicates ... \n",
      "num_voc_in_ds: 42795\n",
      "count_overlap: 36754\n",
      "precent_overlap: 85.88%\n"
     ]
    }
   ],
   "source": [
    "overlap(translated_pars,word2vec)"
   ]
  },
  {
   "cell_type": "code",
   "execution_count": null,
   "metadata": {
    "collapsed": true
   },
   "outputs": [],
   "source": []
  }
 ],
 "metadata": {
  "kernelspec": {
   "display_name": "Python 2",
   "language": "python",
   "name": "python2"
  },
  "language_info": {
   "codemirror_mode": {
    "name": "ipython",
    "version": 2
   },
   "file_extension": ".py",
   "mimetype": "text/x-python",
   "name": "python",
   "nbconvert_exporter": "python",
   "pygments_lexer": "ipython2",
   "version": "2.7.13"
  }
 },
 "nbformat": 4,
 "nbformat_minor": 2
}
